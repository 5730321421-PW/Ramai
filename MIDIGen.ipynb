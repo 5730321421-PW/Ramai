{
 "cells": [
  {
   "cell_type": "code",
   "execution_count": 25,
   "metadata": {},
   "outputs": [],
   "source": [
    "#!/usr/bin/env python\n",
    "\n",
    "import random\n",
    "import numpy\n",
    "\n",
    "from midiutil.MidiFile import MIDIFile\n",
    "\n",
    "degrees  = [60.0, 62.0, 64.0, 65.0, 67.0, 69.0, 71.0, 72.0] # MIDI note number\n",
    "length = [0.25,0.5,0.75,1,1.5,2,3,4]\n",
    "track    = 0\n",
    "channel  = 0\n",
    "time     = 0   # In beats\n",
    "duration = 1   # In beats\n",
    "tempo    = 60  # In BPM\n",
    "volume   = 100 # 0-127, as per the MIDI standard\n",
    "scaleShift = 2\n",
    "\n",
    "MyMIDI = MIDIFile(1) # One track, defaults to format 1 (tempo track\n",
    "                     # automatically created)\n",
    "MyMIDI.addTempo(track,time, tempo)\n",
    "\n",
    "degreePy = numpy.array(degrees)\n",
    "scale = degreePy+scaleShift\n",
    "\n",
    "for i in range(30):\n",
    "    pitch = random.choice(scale)\n",
    "    duration = random.choice(length)\n",
    "    MyMIDI.addNote(track, channel, pitch, duration, duration, volume)\n",
    "    time = time + duration\n",
    "\n",
    "with open(\"random79.mid\", \"wb\") as output_file:\n",
    "    MyMIDI.writeFile(output_file)\n"
   ]
  },
  {
   "cell_type": "code",
   "execution_count": 14,
   "metadata": {},
   "outputs": [],
   "source": [
    "#Create Xlsx file by fixing Pattern Scale with random nots and duration\n",
    "import random\n",
    "import numpy\n",
    "\n",
    "from midiutil.MidiFile import MIDIFile\n",
    "from openpyxl import Workbook\n",
    "from pandas import DataFrame\n",
    "\n",
    "wb = Workbook()\n",
    "ws = wb.active\n",
    "ws1 = wb.create_sheet(\"Pattern\")\n",
    "\n",
    "degrees  = [60, 62, 64, 65, 67, 69, 71, 72] # MIDI note number\n",
    "length = [0.25,0.5,0.75,1,1.5,2,3,4]\n",
    "channel  = 0\n",
    "duration = 1   # In beats\n",
    "volume   = 100 # 0-127, as per the MIDI standard\n",
    "scaleShift = 2\n",
    "\n",
    "degreePy = numpy.array(degrees)\n",
    "scale = degreePy+scaleShift\n",
    "\n",
    "data_pitches = []\n",
    "data_duration = []\n",
    "\n",
    "for i in range(20):\n",
    "    tmp_pitches = []\n",
    "    tmp_duration = []\n",
    "    for j in range(4,10):\n",
    "        pitch = random.choice(scale)\n",
    "        duration = random.choice(length)\n",
    "        tmp_pitches.append(pitch)\n",
    "        tmp_duration.append(duration)\n",
    "    str_pitches = \"_\".join(str(i) for i in tmp_pitches)\n",
    "    str_duration = \"_\".join(str(i) for i in tmp_duration)\n",
    "    data_pitches.append(str_pitches)\n",
    "    data_duration.append(str_duration)\n",
    "\n",
    "df = DataFrame({\"Notes\":data_pitches,\"Duration\":data_duration})\n",
    "df.to_excel(\"Pattern.xlsx\",sheet_name=\"Pattern\",index=False)"
   ]
  },
  {
   "cell_type": "code",
   "execution_count": 27,
   "metadata": {},
   "outputs": [
    {
     "name": "stdout",
     "output_type": "stream",
     "text": [
      "[u'Pattern']\n",
      "[3, 0.5, 4, 0.25, 3, 2]\n",
      "[64, 73, 69, 71, 74, 74]\n",
      "<generator object _cells_by_row at 0x000000000897A120>\n"
     ]
    }
   ],
   "source": [
    "#Get set of Pattern (Notes and Duration) for composing\n",
    "from openpyxl import load_workbook\n",
    "wb = load_workbook(\"Pattern.xlsx\")\n",
    "ws = wb.active\n",
    "\n",
    "print wb.get_sheet_names()\n",
    "\n",
    "for row in ws.iter_rows(min_row = 2,max_col=2,max_row = 2):\n",
    "    for cell in row:\n",
    "        print cell.value"
   ]
  },
  {
   "cell_type": "code",
   "execution_count": 4,
   "metadata": {},
   "outputs": [
    {
     "name": "stdout",
     "output_type": "stream",
     "text": [
      "MIDI FIle Created\n"
     ]
    }
   ],
   "source": [
    "#Get patterns and compose the midi file\n",
    "import numpy as np\n",
    "import random\n",
    "\n",
    "from midiutil.MidiFile import MIDIFile\n",
    "from openpyxl import load_workbook\n",
    "\n",
    "wb = load_workbook(\"Pattern.xlsx\")\n",
    "ws = wb.active\n",
    "MyMIDI = MIDIFile(1) # One track, defaults to format 1 (tempo track\n",
    "                     # automatically created)\n",
    "pattern_set = range(1,21)\n",
    "track    = 0\n",
    "time     = 0   # In beats\n",
    "tempo    = 60  # In BPM\n",
    "volume   = 100 # 0-127, as per the MIDI standard\n",
    "channel  = 0\n",
    "MyMIDI.addTempo(track,time,tempo)\n",
    "\n",
    "def main():\n",
    "    pattern_time = [0.0,1.0,2.0,3.0,4.0]\n",
    "    for i in range(10):\n",
    "        pattern = get_pattern(random.choice(pattern_set)) #Get Duration and Notes\n",
    "        pattern_pitches = map(float, pattern[1].split(\"_\"))\n",
    "        pattern_duration = map(float, pattern[0].split(\"_\"))\n",
    "        event_time = random.choice(pattern_time)\n",
    "        \n",
    "        for i in range(len(pattern_pitches)):\n",
    "            pitch = pattern_pitches[i]\n",
    "            duration = pattern_duration[i]\n",
    "            MyMIDI.addNote(track, channel, pitch, event_time + duration, duration, volume)\n",
    "        \n",
    "    with open(\"random_pattern2.mid\", \"wb\") as output_file:\n",
    "        MyMIDI.writeFile(output_file)\n",
    "        print \"MIDI FIle Created\"\n",
    "        \n",
    "def get_pattern(n):\n",
    "    data = []\n",
    "    for row in ws.iter_rows(min_row = n+1,max_col=2,max_row = n+1):\n",
    "        for cell in row:\n",
    "            data.append(cell.value.encode('utf-8')) \n",
    "    return data\n",
    "main()"
   ]
  },
  {
   "cell_type": "code",
   "execution_count": 16,
   "metadata": {},
   "outputs": [
    {
     "name": "stdout",
     "output_type": "stream",
     "text": [
      "8\n"
     ]
    }
   ],
   "source": [
    "from random import *\n",
    "\n",
    "print randint(1,10)"
   ]
  },
  {
   "cell_type": "code",
   "execution_count": 19,
   "metadata": {},
   "outputs": [
    {
     "name": "stdout",
     "output_type": "stream",
     "text": [
      "2\n"
     ]
    }
   ],
   "source": [
    "import numpy\n",
    "x=[[1,2,3,4,5],[6,7,8,9]]\n",
    "x = numpy.array(x)\n",
    "print x[0][1]"
   ]
  },
  {
   "cell_type": "code",
   "execution_count": 18,
   "metadata": {},
   "outputs": [
    {
     "name": "stdout",
     "output_type": "stream",
     "text": [
      "[[1.0, 2.0, 3.0, 4.0, 5.0, 6.0]]\n"
     ]
    }
   ],
   "source": [
    "s = [\"40_0.5\",\"50_1.5\",\"60_2.0\"]\n",
    "w = \"1_2_3_4_5_6\"\n",
    "x = []\n",
    "y = []\n",
    "m = \"\"\n",
    "for i in s:\n",
    "    n = i.split(\"_\")\n",
    "    x.append(n[0])\n",
    "    m = \"_\".join(str(n) for n in x)\n",
    "x = map(float,x)\n",
    "y.append(map(float,w.split(\"_\")))\n",
    "\n",
    "print y\n",
    "    \n"
   ]
  },
  {
   "cell_type": "code",
   "execution_count": null,
   "metadata": {},
   "outputs": [],
   "source": []
  }
 ],
 "metadata": {
  "kernelspec": {
   "display_name": "Python 2",
   "language": "python",
   "name": "python2"
  },
  "language_info": {
   "codemirror_mode": {
    "name": "ipython",
    "version": 2
   },
   "file_extension": ".py",
   "mimetype": "text/x-python",
   "name": "python",
   "nbconvert_exporter": "python",
   "pygments_lexer": "ipython2",
   "version": "2.7.14"
  }
 },
 "nbformat": 4,
 "nbformat_minor": 2
}
