{
 "cells": [
  {
   "cell_type": "code",
   "execution_count": 8,
   "metadata": {},
   "outputs": [
    {
     "name": "stdout",
     "output_type": "stream",
     "text": [
      "30.5\n"
     ]
    }
   ],
   "source": [
    "#!/usr/bin/env python\n",
    "\n",
    "import random\n",
    "import numpy\n",
    "\n",
    "from midiutil.MidiFile import MIDIFile\n",
    "\n",
    "degrees  = [60, 62, 64, 65, 67, 69, 71, 72] # MIDI note number\n",
    "length = [0.25,0.5,0.75,1,1.5,2,3,4]\n",
    "track    = 0\n",
    "channel  = 0\n",
    "time     = 0   # In beats\n",
    "duration = 1   # In beats\n",
    "tempo    = 60  # In BPM\n",
    "volume   = 100 # 0-127, as per the MIDI standard\n",
    "scaleShift = 2\n",
    "\n",
    "MyMIDI = MIDIFile(1) # One track, defaults to format 1 (tempo track\n",
    "                     # automatically created)\n",
    "MyMIDI.addTempo(track,time, tempo)\n",
    "\n",
    "degreePy = numpy.array(degrees)\n",
    "scale = degreePy+scaleShift\n",
    "\n",
    "for i in range(19):\n",
    "    pitch = random.choice(scale)\n",
    "    duration = random.choice(length)\n",
    "    MyMIDI.addNote(track, channel, pitch, duration, duration, volume)\n",
    "    time = time + duration\n",
    "\n",
    "with open(\"random99.mid\", \"wb\") as output_file:\n",
    "    MyMIDI.writeFile(output_file)\n"
   ]
  },
  {
   "cell_type": "code",
   "execution_count": 7,
   "metadata": {},
   "outputs": [],
   "source": [
    "#Create Xlsx file by fixing Pattern Scale with random nots and duration\n",
    "import random\n",
    "import numpy\n",
    "\n",
    "from midiutil.MidiFile import MIDIFile\n",
    "from openpyxl import Workbook\n",
    "from pandas import DataFrame\n",
    "\n",
    "wb = Workbook()\n",
    "ws = wb.active\n",
    "ws1 = wb.create_sheet(\"Pattern\")\n",
    "\n",
    "degrees  = [60, 62, 64, 65, 67, 69, 71, 72] # MIDI note number\n",
    "length = [0.25,0.5,0.75,1,1.5,2,3,4]\n",
    "track    = 0\n",
    "channel  = 0\n",
    "time     = 0   # In beats\n",
    "duration = 1   # In beats\n",
    "tempo    = 60  # In BPM\n",
    "volume   = 100 # 0-127, as per the MIDI standard\n",
    "scaleShift = 2\n",
    "\n",
    "degreePy = numpy.array(degrees)\n",
    "scale = degreePy+scaleShift\n",
    "\n",
    "data_pitches = []\n",
    "data_duration = []\n",
    "\n",
    "for i in range(20):\n",
    "    tmp_pitches = []\n",
    "    tmp_duration = []\n",
    "    for j in range(4,10):\n",
    "        pitch = random.choice(scale)\n",
    "        duration = random.choice(length)\n",
    "        tmp_pitches.append(pitch)\n",
    "        tmp_duration.append(duration)\n",
    "    data_pitches.append(tmp_pitches)\n",
    "    data_duration.append(tmp_duration)\n",
    "\n",
    "df = DataFrame({\"Notes\":data_pitches,\"Duration\":data_duration})\n",
    "df.to_excel(\"Pattern.xlsx\",sheet_name=\"Pattern\",index=False)"
   ]
  },
  {
   "cell_type": "code",
   "execution_count": 12,
   "metadata": {},
   "outputs": [
    {
     "name": "stdout",
     "output_type": "stream",
     "text": [
      "[u'Pattern']\n",
      "Duration\n",
      "Notes\n",
      "[3, 0.5, 4, 0.25, 3, 2]\n",
      "[64, 73, 69, 71, 74, 74]\n",
      "[3, 3, 3, 0.25, 4, 0.75]\n",
      "[66, 69, 66, 67, 67, 73]\n",
      "[1, 0.5, 1, 0.5, 0.75, 0.5]\n",
      "[71, 73, 71, 71, 69, 74]\n",
      "[2, 1, 4, 0.5, 0.5, 2]\n",
      "[66, 69, 74, 71, 73, 71]\n",
      "[4, 2, 0.5, 1.5, 3, 0.25]\n",
      "[73, 67, 66, 67, 64, 62]\n",
      "[1, 0.5, 0.5, 4, 1.5, 0.25]\n",
      "[67, 67, 74, 73, 66, 74]\n",
      "[2, 0.5, 0.25, 0.5, 0.5, 0.5]\n",
      "[62, 66, 74, 69, 66, 67]\n",
      "[0.75, 1.5, 4, 0.75, 0.25, 0.75]\n",
      "[69, 66, 64, 69, 67, 73]\n",
      "[3, 0.75, 3, 4, 1, 0.25]\n",
      "[69, 71, 71, 62, 73, 69]\n",
      "[0.25, 4, 1.5, 2, 3, 1.5]\n",
      "[62, 67, 66, 67, 64, 66]\n",
      "[1.5, 0.5, 0.5, 0.75, 3, 3]\n",
      "[73, 66, 62, 74, 73, 71]\n",
      "[0.75, 2, 0.75, 1.5, 0.25, 0.5]\n",
      "[74, 71, 66, 73, 74, 73]\n",
      "[0.75, 0.25, 0.25, 0.25, 4, 0.25]\n",
      "[69, 64, 71, 69, 66, 71]\n",
      "[1.5, 1.5, 3, 0.25, 0.5, 2]\n",
      "[73, 74, 69, 64, 71, 71]\n",
      "[0.75, 0.75, 4, 1.5, 0.25, 0.5]\n",
      "[73, 64, 73, 71, 66, 67]\n",
      "[1.5, 4, 1, 0.25, 4, 1.5]\n",
      "[71, 73, 74, 64, 64, 74]\n",
      "[0.25, 2, 0.25, 4, 0.75, 3]\n",
      "[71, 73, 64, 74, 64, 67]\n",
      "[3, 0.25, 4, 0.5, 3, 2]\n",
      "[69, 74, 66, 64, 62, 62]\n",
      "[2, 1.5, 0.5, 3, 3, 1]\n",
      "[71, 74, 66, 69, 62, 66]\n",
      "[1.5, 2, 3, 1, 0.25, 4]\n",
      "[62, 64, 66, 66, 71, 73]\n"
     ]
    }
   ],
   "source": [
    "#Get set of Pattern (Notes and Duration) for composing\n",
    "from openpyxl import load_workbook\n",
    "wb = load_workbook(\"Pattern.xlsx\")\n",
    "ws = wb.active\n",
    "\n",
    "print wb.get_sheet_names()\n",
    "\n",
    "for row in ws.iter_rows(max_col=2):\n",
    "    for cell in row:\n",
    "        print cell.value"
   ]
  },
  {
   "cell_type": "code",
   "execution_count": 1,
   "metadata": {},
   "outputs": [
    {
     "ename": "SyntaxError",
     "evalue": "invalid syntax (<ipython-input-1-120ae92bdeb5>, line 3)",
     "output_type": "error",
     "traceback": [
      "\u001b[1;36m  File \u001b[1;32m\"<ipython-input-1-120ae92bdeb5>\"\u001b[1;36m, line \u001b[1;32m3\u001b[0m\n\u001b[1;33m    df = Dataframe({\"Notes\":})\u001b[0m\n\u001b[1;37m                            ^\u001b[0m\n\u001b[1;31mSyntaxError\u001b[0m\u001b[1;31m:\u001b[0m invalid syntax\n"
     ]
    }
   ],
   "source": []
  },
  {
   "cell_type": "code",
   "execution_count": 4,
   "metadata": {},
   "outputs": [],
   "source": [
    "from pandas import DataFrame"
   ]
  },
  {
   "cell_type": "code",
   "execution_count": null,
   "metadata": {},
   "outputs": [],
   "source": []
  }
 ],
 "metadata": {
  "kernelspec": {
   "display_name": "Python 2",
   "language": "python",
   "name": "python2"
  },
  "language_info": {
   "codemirror_mode": {
    "name": "ipython",
    "version": 2
   },
   "file_extension": ".py",
   "mimetype": "text/x-python",
   "name": "python",
   "nbconvert_exporter": "python",
   "pygments_lexer": "ipython2",
   "version": "2.7.14"
  }
 },
 "nbformat": 4,
 "nbformat_minor": 2
}
