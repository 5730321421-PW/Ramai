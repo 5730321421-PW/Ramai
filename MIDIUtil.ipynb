{
 "cells": [
  {
   "cell_type": "code",
   "execution_count": 18,
   "metadata": {},
   "outputs": [
    {
     "name": "stderr",
     "output_type": "stream",
     "text": [
      "/Users/neufii/anaconda3/lib/python3.6/site-packages/midiutil/MidiFile.py:899: FutureWarning: Please explicitly set adjust_origin. Default behaviour will change in a future version.\n",
      "  FutureWarning)\n"
     ]
    }
   ],
   "source": [
    "#!/usr/bin/env python\n",
    "\n",
    "import random\n",
    "import numpy\n",
    "\n",
    "from midiutil.MidiFile import MIDIFile\n",
    "\n",
    "degrees  = [60, 62, 64, 65, 67, 69, 71, 72] # MIDI note number\n",
    "length = [0.25,0.5,0.75,1,1.5,2,3,4]\n",
    "track    = 0\n",
    "channel  = 0\n",
    "time     = 0.0   # In beats\n",
    "duration = 1   # In beats\n",
    "tempo    = 60  # In BPM\n",
    "volume   = 100 # 0-127, as per the MIDI standard\n",
    "scaleShift = 2\n",
    "\n",
    "MyMIDI = MIDIFile(1) # One track, defaults to format 1 (tempo track\n",
    "                     # automatically created)\n",
    "MyMIDI.addTempo(track,time, tempo)\n",
    "\n",
    "degreePy = numpy.array(degrees)\n",
    "scale = degreePy+scaleShift\n",
    "\n",
    "for i in range(19):\n",
    "    pitch = random.choice(scale)\n",
    "    duration = random.choice(length)\n",
    "    MyMIDI.addNote(track, channel, pitch, duration, duration, volume)\n",
    "    time = time + duration\n",
    "\n",
    "with open(\"random4.mid\", \"wb\") as output_file:\n",
    "    MyMIDI.writeFile(output_file)"
   ]
  },
  {
   "cell_type": "code",
   "execution_count": null,
   "metadata": {
    "collapsed": true
   },
   "outputs": [],
   "source": []
  },
  {
   "cell_type": "code",
   "execution_count": null,
   "metadata": {
    "collapsed": true
   },
   "outputs": [],
   "source": []
  }
 ],
 "metadata": {
  "kernelspec": {
   "display_name": "Python 3",
   "language": "python",
   "name": "python3"
  },
  "language_info": {
   "codemirror_mode": {
    "name": "ipython",
    "version": 3
   },
   "file_extension": ".py",
   "mimetype": "text/x-python",
   "name": "python",
   "nbconvert_exporter": "python",
   "pygments_lexer": "ipython3",
   "version": "3.6.3"
  }
 },
 "nbformat": 4,
 "nbformat_minor": 2
}
